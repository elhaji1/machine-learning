{
  "nbformat": 4,
  "nbformat_minor": 0,
  "metadata": {
    "colab": {
      "name": "Features imputation.ipynb",
      "provenance": [],
      "collapsed_sections": [],
      "toc_visible": true,
      "authorship_tag": "ABX9TyNcHkvFI0W6Grl5dy6KpE2/"
    },
    "kernelspec": {
      "name": "python3",
      "display_name": "Python 3"
    }
  },
  "cells": [
    {
      "cell_type": "markdown",
      "metadata": {
        "id": "yt9q8DUeNfHJ"
      },
      "source": [
        "# <font color=\"blue\">Features imputation"
      ]
    },
    {
      "cell_type": "markdown",
      "metadata": {
        "id": "Db5IAqgNOCmw"
      },
      "source": [
        "<p>Dans le monde réel, souvent et pour diverses raisons les data set proviennent avec des données manquantes qui sont souvent encodées sous forme de blancs, de NaN ou d'autres caractères de remplissage.</p> \n",
        "<p>Toutefois, ces données ne sont pas compatibles avec les estimateurs de scikit-learn qui exigent que les données soient numériques et signifiantes. la première stratégie pour utiliser ces data set incomplet es consiste à supprimer les lignes/colonnes contenant des valeurs manquantes. Toutefois, cette stratégie n'est pas efficace car elle impose une perte des données qui peuvent être bénéfiques.</p>\n",
        "<p>Une meilleure stratégie consiste à déduire les données manquantes (imputer) à partir de la partie connue de dataset. Pour ce faire, nous allons utiliser le module [sklearn.impute](https://scikit-learn.org stable/modules/classes.html#module-sklearn.impute) qui contient plusieurs Imputers.</p>\n",
        "<p>Ce Colab se contente de présenter les imputers suivants:</p>\n",
        "\n",
        "+ **SimpleImputer():**\n",
        "+ **MissingIndicator()**\n",
        "+ **KNNImputer()**"
      ]
    },
    {
      "cell_type": "markdown",
      "metadata": {
        "id": "6fTVGbEkV7pa"
      },
      "source": [
        "## <font color=\"blue\">1. SimpleImputer"
      ]
    },
    {
      "cell_type": "markdown",
      "metadata": {
        "id": "m3fNmEXQWKgg"
      },
      "source": [
        "SimpleImputer() remplace toutes la valeurs manquantes par une valeur statistique détermiée par une des stratégies (strategy) suivantes:\n",
        "\n",
        "<font color=\"blue\">Strategy:</font>\n",
        "+ *mean*: remplace les valeurs manquantes par la moyenne de chaque colonne. Utilisée uniquement avec les données numériques\n",
        "+ *Median*: remplace les valeurs manquantes par la médiane. Utilisée uniquement avec les données numériques\n",
        "+ *most-frequent*: remplace les valeurs manquantes par la valeur la plus fréquente de chaque colonne. Utilisée  avec les données numériques et cacactères\n",
        "+ *Constant*: remplace les valeurs manquantes par constante déterminée (numérique ou caractères) à l'avance.\n",
        "<p>Le bout de code suivant montre à travers un exemple simple l'utilisation de SimpleImputer avec les quatre stratégies.\n"
      ]
    },
    {
      "cell_type": "code",
      "metadata": {
        "id": "EObKY2TVahKa",
        "colab": {
          "base_uri": "https://localhost:8080/",
          "height": 358
        },
        "outputId": "ed1bdb46-a5e3-4c9c-ea6c-17e042c52346"
      },
      "source": [
        "\"\"\"\n",
        "Cet exmple présente l'utilisation de SimpleImputer aves les 4 stratégies\n",
        "\"\"\"\n",
        "#importer les modules\n",
        "import numpy as np\n",
        "from sklearn.impute import SimpleImputer\n",
        "\"\"\"construire un array contenant une donnée manquante!\n",
        "\"\"\"\n",
        "tableau=np.array([12,14,12,16,7,12,10,np.nan])\n",
        "#tableau=np.array(liste)\n",
        "#afficher le tableau avant  imputation\n",
        "print(tableau)\n",
        "\n",
        "#imputet la donnée manquante (dernière valeur de tablea!)\n",
        "#En utilisant \"mean\" comme stratégie\n",
        "imputer1=SimpleImputer(missing_values=np.nan, strategy=\"mean\")\n",
        "res1=imputer1.fit_transform(tableau.reshape(-1,1))\n",
        "print(\"Résultat en utulisant \\\"mean\\\":\\n\",res1)\n",
        "\n",
        "#En utilisant \"constant\" comme stratégie=> dans ce cas il faut ajouter \n",
        "#fill_value!!\n",
        "imputer2=SimpleImputer(missing_values=np.nan, strategy=\"constant\",\\\n",
        "                       fill_value=15)\n",
        "res2=imputer2.fit_transform(tableau.reshape(-1,1))\n",
        "print(\"Résultat en utulisant \\\"constant\\\":\\n\",res2)\n",
        "\"\"\"\n",
        "Pour les deux autres stratégie, il suffit de remplacer \"mean\" par \"median\"\n",
        "ou \"most_frequent\"\n",
        "\"\"\"\n",
        "\n"
      ],
      "execution_count": null,
      "outputs": [
        {
          "output_type": "stream",
          "text": [
            "[12. 14. 12. 16.  7. 12. 10. nan]\n",
            "Résultat en utulisant \"mean\":\n",
            " [[12.        ]\n",
            " [14.        ]\n",
            " [12.        ]\n",
            " [16.        ]\n",
            " [ 7.        ]\n",
            " [12.        ]\n",
            " [10.        ]\n",
            " [11.85714286]]\n",
            "Résultat en utulisant \"constant\":\n",
            " [[12.]\n",
            " [14.]\n",
            " [12.]\n",
            " [16.]\n",
            " [ 7.]\n",
            " [12.]\n",
            " [10.]\n",
            " [15.]]\n"
          ],
          "name": "stdout"
        },
        {
          "output_type": "execute_result",
          "data": {
            "application/vnd.google.colaboratory.intrinsic+json": {
              "type": "string"
            },
            "text/plain": [
              "'\\nPour les deux autres stratégie, il suffit de remplacer \"mean\" par \"median\"\\nou \"most_frequent\"\\n'"
            ]
          },
          "metadata": {
            "tags": []
          },
          "execution_count": 3
        }
      ]
    },
    {
      "cell_type": "markdown",
      "metadata": {
        "id": "F2RJPumkjOLP"
      },
      "source": [
        "## <font color=\"blue\">2. KNNImputer"
      ]
    },
    {
      "cell_type": "markdown",
      "metadata": {
        "id": "RYVzRXIzk4cf"
      },
      "source": [
        "Présentation..."
      ]
    },
    {
      "cell_type": "code",
      "metadata": {
        "id": "H4de90llkFUX",
        "colab": {
          "base_uri": "https://localhost:8080/",
          "height": 85
        },
        "outputId": "efa6690f-0b85-4070-dc2f-56b44e075bc3"
      },
      "source": [
        "import numpy as np\n",
        "from sklearn.impute import KNNImputer\n",
        "#Données initiales contenant des valeurs manquante\n",
        "X = [\n",
        "     [1, 2, np.nan], \n",
        "     [3, 4, 3], \n",
        "     [np.nan, 6, 5], \n",
        "     [8, 8, 7]\n",
        "     ]\n",
        "#imputation des valeurs manquantes par KNNImputer\n",
        "imputer = KNNImputer(n_neighbors=2)\n",
        "res=imputer.fit_transform(X)\n",
        "#Afficher le tableau après l'imputation avec KNNImputer\n",
        "print(res)"
      ],
      "execution_count": null,
      "outputs": [
        {
          "output_type": "stream",
          "text": [
            "[[1.  2.  4. ]\n",
            " [3.  4.  3. ]\n",
            " [5.5 6.  5. ]\n",
            " [8.  8.  7. ]]\n"
          ],
          "name": "stdout"
        }
      ]
    },
    {
      "cell_type": "markdown",
      "metadata": {
        "id": "kdhrBBxbD0qQ"
      },
      "source": [
        "## <font color=\"blue\">3. MissingIndicator"
      ]
    }
  ]
}