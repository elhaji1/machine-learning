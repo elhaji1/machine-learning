{
  "nbformat": 4,
  "nbformat_minor": 0,
  "metadata": {
    "colab": {
      "name": "Perceptron simple 1 ET Logique.ipynb",
      "provenance": [],
      "collapsed_sections": [],
      "authorship_tag": "ABX9TyO6NQciWJSImnQkgTqeFa0h",
      "include_colab_link": true
    },
    "kernelspec": {
      "name": "python3",
      "display_name": "Python 3"
    },
    "language_info": {
      "name": "python"
    }
  },
  "cells": [
    {
      "cell_type": "markdown",
      "metadata": {
        "id": "view-in-github",
        "colab_type": "text"
      },
      "source": [
        "<a href=\"https://colab.research.google.com/github/elhaji1/machine-learning/blob/main/Perceptron_simple_1_ET_Logique.ipynb\" target=\"_parent\"><img src=\"https://colab.research.google.com/assets/colab-badge.svg\" alt=\"Open In Colab\"/></a>"
      ]
    },
    {
      "cell_type": "markdown",
      "source": [
        "#Perceptron Simple pour le problème de \"ET Logique\"\n",
        "\n",
        "\n"
      ],
      "metadata": {
        "id": "0a3aGV6qQulY"
      }
    },
    {
      "cell_type": "markdown",
      "source": [
        "##Importer les fonctions nécessaires"
      ],
      "metadata": {
        "id": "D0T_W6K1S4yK"
      }
    },
    {
      "cell_type": "code",
      "source": [
        "from random import choice\n",
        "from numpy import array, dot, random"
      ],
      "metadata": {
        "id": "MhP59aPMRB3p"
      },
      "execution_count": 20,
      "outputs": []
    },
    {
      "cell_type": "markdown",
      "source": [
        "\n",
        "*   random.[choice(list)](https://https://numpy.org/doc/stable/reference/random/generated/numpy.random.choice.html) : Return a random element from a list <br>\n",
        "Look at the following example:\n",
        "\n"
      ],
      "metadata": {
        "id": "da1mxAxsRGBz"
      }
    },
    {
      "cell_type": "code",
      "source": [
        "cours = [\"Réseaux de neurones\", \"Machine Learning\", \"Python\", \"Data mining\"]\n",
        "choice(cours)"
      ],
      "metadata": {
        "colab": {
          "base_uri": "https://localhost:8080/",
          "height": 35
        },
        "id": "W-SOa-XeScU6",
        "outputId": "7cce9cf8-a3cf-4d89-b897-1aee0ccf071d"
      },
      "execution_count": 21,
      "outputs": [
        {
          "output_type": "execute_result",
          "data": {
            "text/plain": [
              "'Machine Learning'"
            ],
            "application/vnd.google.colaboratory.intrinsic+json": {
              "type": "string"
            }
          },
          "metadata": {},
          "execution_count": 21
        }
      ]
    },
    {
      "cell_type": "markdown",
      "source": [
        "##La fonction heaviside"
      ],
      "metadata": {
        "id": "UiS2pY57Taeo"
      }
    },
    {
      "cell_type": "code",
      "source": [
        "def heaviside(x):\n",
        "  if x<0:\n",
        "    return 0\n",
        "  else:\n",
        "    return 1"
      ],
      "metadata": {
        "id": "r23SoGGgjrbv"
      },
      "execution_count": 22,
      "outputs": []
    },
    {
      "cell_type": "markdown",
      "source": [
        "##Données:\n",
        "$([x1, x2, x0], y)$: $x0$ représente le bias"
      ],
      "metadata": {
        "id": "C8wTT0A5jqsw"
      }
    },
    {
      "cell_type": "code",
      "source": [
        "training_data = [\n",
        "    (array([0,0,1]), 0),\n",
        "    (array([0,1,1]), 0),\n",
        "    (array([1,0,1]), 0),\n",
        "    (array([1,1,1]), 1),]"
      ],
      "metadata": {
        "id": "Lh3QY0hej8zl"
      },
      "execution_count": 23,
      "outputs": []
    },
    {
      "cell_type": "markdown",
      "source": [
        "## Génération des poids synaptiques $Wi$"
      ],
      "metadata": {
        "id": "hZQVEU8Xkt1z"
      }
    },
    {
      "cell_type": "code",
      "source": [
        "w = random.randn(3)"
      ],
      "metadata": {
        "id": "GrEpB4ock7-F"
      },
      "execution_count": 24,
      "outputs": []
    },
    {
      "cell_type": "markdown",
      "source": [
        "## Training (Mise à jour des $Wi$ )\n"
      ],
      "metadata": {
        "id": "J02ZyKfIkhud"
      }
    },
    {
      "cell_type": "code",
      "source": [
        "errors = []\n",
        "eta = 0.2 #learning_rate\n",
        "n_iteration = 100 \n",
        "for i in range(n_iteration):\n",
        "    x, y = choice(training_data) #Tirer aléatoirement un élément du dataset\n",
        "    z = dot(x, w)\n",
        "    error = y - heaviside(z)\n",
        "    errors.append(error)\n",
        "    w += eta * error * x"
      ],
      "metadata": {
        "id": "kpiRS5h8kl_l"
      },
      "execution_count": 25,
      "outputs": []
    },
    {
      "cell_type": "markdown",
      "source": [
        "##Utilisation du modèle ainsi entrainé pour la prédiction:\n",
        "Maintenant les $Wi$ sont bien appris, c'est le temps de l'utiliser!!"
      ],
      "metadata": {
        "id": "DouslBHole4X"
      }
    },
    {
      "cell_type": "code",
      "source": [
        "test_data = [\n",
        "             array([1,0,1]),\n",
        "             array([0,1,1]),\n",
        "             array([1,1,1]),]"
      ],
      "metadata": {
        "id": "Ph2-Nei1l1nP"
      },
      "execution_count": 34,
      "outputs": []
    },
    {
      "cell_type": "code",
      "source": [
        "for x in test_data:\n",
        "    z = dot(x, w)\n",
        "    print(\"{}: {} -> {}\".format(x[:2], z, heaviside(z)))"
      ],
      "metadata": {
        "colab": {
          "base_uri": "https://localhost:8080/"
        },
        "id": "xcjO4z7rmeRL",
        "outputId": "c05594b3-7c1a-4a5e-f10d-f21556aed146"
      },
      "execution_count": 35,
      "outputs": [
        {
          "output_type": "stream",
          "name": "stdout",
          "text": [
            "[1 0]: -0.5619818587005467 -> 0\n",
            "[0 1]: -0.36263514086725146 -> 0\n",
            "[1 1]: 0.07183175738139203 -> 1\n"
          ]
        }
      ]
    }
  ]
}