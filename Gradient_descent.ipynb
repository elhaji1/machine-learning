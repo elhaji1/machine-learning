{
  "nbformat": 4,
  "nbformat_minor": 0,
  "metadata": {
    "colab": {
      "name": "Gradient_descent.ipynb",
      "provenance": [],
      "collapsed_sections": [],
      "authorship_tag": "ABX9TyNhmtFfx7H8DG69x6bZzG68",
      "include_colab_link": true
    },
    "kernelspec": {
      "name": "python3",
      "display_name": "Python 3"
    },
    "language_info": {
      "name": "python"
    }
  },
  "cells": [
    {
      "cell_type": "markdown",
      "metadata": {
        "id": "view-in-github",
        "colab_type": "text"
      },
      "source": [
        "<a href=\"https://colab.research.google.com/github/elhaji1/machine-learning/blob/main/Gradient_descent.ipynb\" target=\"_parent\"><img src=\"https://colab.research.google.com/assets/colab-badge.svg\" alt=\"Open In Colab\"/></a>"
      ]
    },
    {
      "cell_type": "markdown",
      "metadata": {
        "id": "hheeH181nn6M"
      },
      "source": [
        "#<font color=blue> Gradient et Gradient descent"
      ]
    },
    {
      "cell_type": "markdown",
      "metadata": {
        "id": "eiMRLuE_n3yy"
      },
      "source": [
        "##<font color=\"red\">Gradient</font>:\n",
        "- **Définition**\n",
        "<P>\n",
        "Le Gradient est un vecteur dont les coordonnées sont les dérivés partielles. \n",
        "Soit f : $R^n → R$ une fonction admettant des dérivées partielles. Le gradient en $x = (x1, . . . , xn) ∈ R^n$, noté $grad f(x)$, est le vecteur:\n",
        "<p>\n",
        "$gradef(x)=\\begin{pmatrix}\n",
        "\\frac{\\partial f}{\\partial x_1}(x)\\\\\n",
        "\\frac{\\partial f}{\\partial x_2}(x)\\\\\n",
        "\\ {.}\\\\\n",
        "\\ {.}\\\\\n",
        "\\frac{\\partial f}{\\partial x_n}(x)\\\\\n",
        "\\end{pmatrix}$\n",
        "<br>\n",
        "<br>\n",
        "Pour une fonctions $f(x, y)$ de deux variables, au point $(x0, y0)$, on a donc:\n",
        "$gradef=\\begin{pmatrix}\n",
        "\\frac{\\partial f}{\\partial x}\\\\\n",
        "\\frac{\\partial f}{\\partial y}\\\\\n",
        "\\end{pmatrix}$\n",
        "\n",
        "- Exemple:\n",
        "<p>\n",
        "$f(x,y)=2x^3y-x^2y^3$\n",
        ", alors $gradef=\\begin{pmatrix}\n",
        "6x^2y\\\\ 3x^2y^2\\\n",
        "\\end{pmatrix}$\n",
        "\n",
        "  \n"
      ]
    },
    {
      "cell_type": "markdown",
      "metadata": {
        "id": "pWu4OYD25emn"
      },
      "source": [
        "##<font color=\"red\">L'algorithme du Gradient: Gradient Descent </font>:\n",
        "<p>\n",
        "Le gradient Descent est un algorithme itératif de minisation très populaire, particulièrement dans l'entrainement des réseaux de nourones artficiels. Toutefois, il faut souligner les éléments suivants:\n",
        "<p>\n",
        "\n",
        "* Il s'agit d'une **approche approximative** dont la solution obtenue dépend des hyperparamètres telques le nombre d'itérations et la précision souhaitée.\n",
        "* Le gradient **se bloque** dans le **premier minima trouvé** qui peut s'agir, belle et bienn, d'un minimum local. Il faut l'appliquer sur des fonction convexes.\n",
        "<p>\n",
        "<font color=violet> Gradient descent:</font>\n",
        "<p>\n",
        "\n",
        "\n",
        "1.   Initialiser aléatoirement les entrées ($x$)\n",
        "\n",
        "2.   Répéter\n",
        "<p>\n",
        "     $x_{t+1}=x_t-{\\alpha}gradx$\n",
        "2.   jusqu'à **Convergence**\n",
        "<p>\n",
        "* La convergence de l'algorithme peut être défini par plusieurs critères, dont les plus populaire sont: le nombre maximal d'itérations (maxIter) et la précision souhaitée (esp).\n",
        "* le paramètre ${\\alpha}$, nommé Leraning_rate, exprime la vitesse d'apprentissage: s'il est petit, alors **convergence lente** (il faut augmenter le nombre d'itérations), s'il est grand, alors **oscillation** et pas de convercgence! Généralement est une valeur entre 0.01 et 0.02\n"
      ]
    },
    {
      "cell_type": "markdown",
      "metadata": {
        "id": "KOjSranl9z2y"
      },
      "source": [
        "## <font color=red> Exemple d'application 1</font>\n",
        "<p>\n",
        "Soit $f(x)=x^2-x+1$\n",
        "<p>\n",
        "L'algorithme Gradient Descent sera appliqué par la suite pour minimiser cette fonction qui est continue et dérivable sur $R$.\n",
        "\n",
        "Mais Avant, on va visualiser l'allure de la fonction $f$ pour vérfier visuellement sa convexité et son minimum."
      ]
    },
    {
      "cell_type": "code",
      "metadata": {
        "id": "q1g_r8H7-1SK"
      },
      "source": [
        "#Définition de la fonction f\n",
        "import math\n",
        "def f(x):\n",
        "  return (x * x - x + 1)"
      ],
      "execution_count": 19,
      "outputs": []
    },
    {
      "cell_type": "code",
      "metadata": {
        "id": "bCZAPYTU-7pL",
        "outputId": "ff19fe52-f44d-439f-9858-46411cf63498",
        "colab": {
          "base_uri": "https://localhost:8080/",
          "height": 282
        }
      },
      "source": [
        "#tracer la courbe de f\n",
        "import numpy as np\n",
        "import matplotlib.pyplot as plt\n",
        "x = np.linspace(-5.0, 5.0, 100)\n",
        "y=f(x)\n",
        "plt.plot(x, y)"
      ],
      "execution_count": 20,
      "outputs": [
        {
          "output_type": "execute_result",
          "data": {
            "text/plain": [
              "[<matplotlib.lines.Line2D at 0x7f65a7b21e90>]"
            ]
          },
          "metadata": {
            "tags": []
          },
          "execution_count": 20
        },
        {
          "output_type": "display_data",
          "data": {
            "image/png": "[encoded data removed]",
            "text/plain": [
              "<Figure size 432x288 with 1 Axes>"
            ]
          },
          "metadata": {
            "tags": [],
            "needs_background": "light"
          }
        }
      ]
    },
    {
      "cell_type": "markdown",
      "metadata": {
        "id": "8_VktLvt_LmV"
      },
      "source": [
        "* Il s'agit bien d'une fonction convexe dont le minimum est atteint en $x=0.5$"
      ]
    },
    {
      "cell_type": "markdown",
      "metadata": {
        "id": "Ej5Dr1Ab_WlK"
      },
      "source": [
        "Trouver le minimu de la fonction $f$ par le gradient Descent"
      ]
    },
    {
      "cell_type": "code",
      "metadata": {
        "id": "w_QbZ_T9xhJu"
      },
      "source": [
        "import math# pour utiliser abs\n",
        "#Dérivé de f: vous vous rappelez!!\n",
        "def df(x):\n",
        "  return (2 * x - 1)\n",
        "#Gradient Descent\n",
        "def descente(f, df, x , learnin_rate=1e-2, eps=1e-6, n_iter=1000):\n",
        "  gradx=df(x);\n",
        "  i=0\n",
        "  while(abs(gradx)>eps):# on impose une précision eps=1e-6\n",
        "    gradx=df(x)\n",
        "    x=x - learnin_rate*gradx#Mise à jour de x\n",
        "    i+=1\n",
        "    if i>n_iter:\n",
        "      return None\n",
        "  return x"
      ],
      "execution_count": 23,
      "outputs": []
    },
    {
      "cell_type": "code",
      "metadata": {
        "colab": {
          "base_uri": "https://localhost:8080/"
        },
        "id": "qsPb1opbyoYw",
        "outputId": "1616c488-7a94-4ba6-b1c6-a1fe864aeee4"
      },
      "source": [
        "print(descente(f, df,100))"
      ],
      "execution_count": 24,
      "outputs": [
        {
          "output_type": "stream",
          "text": [
            "0.5000004885587115\n"
          ],
          "name": "stdout"
        }
      ]
    },
    {
      "cell_type": "markdown",
      "metadata": {
        "id": "l65-I7XCnjKC"
      },
      "source": [
        "* vous remarquez que la valeur obtenue par le gradient desent est pratiquement obtenue en $x=0.5$. Quelle bonne nouvelle!"
      ]
    },
    {
      "cell_type": "markdown",
      "metadata": {
        "id": "ThbUVYQPDUni"
      },
      "source": [
        "<font color=red>Exemple d'application 2</font>"
      ]
    }
  ]
}