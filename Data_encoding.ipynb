{
  "nbformat": 4,
  "nbformat_minor": 0,
  "metadata": {
    "colab": {
      "name": "Data_encoding.ipynb",
      "provenance": [],
      "toc_visible": true,
      "authorship_tag": "ABX9TyMSEavaDvCnHXdwwm+f6BIZ"
    },
    "kernelspec": {
      "name": "python3",
      "display_name": "Python 3"
    }
  },
  "cells": [
    {
      "cell_type": "markdown",
      "metadata": {
        "id": "tNQkUW70IXp2"
      },
      "source": [
        "# <font color=\"blue\">Data Preprocessing : Encoding and Feature Scaling avec Python\n",
        "La qualité des données est un élément clé dans toute démarche de machine Learning. Toutefois, Le plus souvent, en machine Learning, les jeux de données (Data Set) proviennent avec des ordres de grandeurs différents ce qui peut affaiblir les performances de modélisation (en particulier la lenteur de la convergence d'un algorithme).  \n",
        "\n",
        "Le Feature Scaling qui comprend la Standardisation et la Normalisation permet de pallier à ce genre de problème (différence d'echelle des grandeurs).\n",
        "\n",
        "Les jeux des données peuvent nécessiter dans pas mal de situations la transformation (encodage) des caractéristiques catéorielles (qualitatives) en valeurs numériques(quantitatives)pour que l'on passer passer à un estimateur.\n",
        "\n",
        "Dans ce Colab, je  présente comment faire Encoding and Feature Scaling des données en utilisatnt le module [sklearn.preprocessing de python](https://scikit-learn.org/stable/modules/classes.html highlight=preprocessing#module-sklearn.preprocessing).</p>"
      ]
    },
    {
      "cell_type": "markdown",
      "metadata": {
        "id": "1hpFutxYOMrg"
      },
      "source": [
        " # <font color=\"blue\"> 1. Encodage des données</font>"
      ]
    },
    {
      "cell_type": "markdown",
      "metadata": {
        "id": "lSUSLnIlO6dp"
      },
      "source": [
        "Le module preprocession du package Sklearn du Python dispose de plusieurs *Transformer Classes* qui permettent l'encodage (ou transformation) des données dont je présente les suivants:\n",
        "\n",
        "* **Encodage Ordinal:** Permet d'associer chaque valeur catégorielle (ou classe) à une <font color=\"orange\">valeur décimale</font>. Je me limite aux deux classes suivantes:\n",
        "* **Encodage One-Hot:**  ermet d'associer chaque valeur catégorielle (ou classe) à une <font color=\"orange\">valeur binaire (suite de bits)</font>.\n",
        "\n"
      ]
    },
    {
      "cell_type": "markdown",
      "metadata": {
        "id": "Za30SiWP0zIo"
      },
      "source": [
        "<font color=\"blue\">1.1. Encodage ordinal</font>\n",
        "+ ***LaberEncoder():*** encode chaque valeur catégorielle de Y en valeur décimale (0, 1, 2, ..)"
      ]
    },
    {
      "cell_type": "code",
      "metadata": {
        "id": "yNVAXStS3CPH",
        "colab": {
          "base_uri": "https://localhost:8080/",
          "height": 85
        },
        "outputId": "2cbd2ea2-4a7f-4903-aa0d-c62c5cd531ae"
      },
      "source": [
        "#Exemple 1\n",
        "import numpy as np\n",
        "from sklearn.preprocessing import LabelEncoder\n",
        "\"\"\"\n",
        "Encodage des données avec LaberEncoder()\n",
        "\"\"\"\n",
        "\n",
        "Y=np.array([\"Homme\",\n",
        "            \"Homme\",\n",
        "            \"Femme\",\n",
        "            \"Homme\"])\n",
        "#utilisation d'un transformateur Ordinal LaberEncoder()\n",
        "encoder=LabelEncoder().fit_transform(Y)\n",
        "print(\"Les valeur catégorielles de Y sont: \\n\",Y)\n",
        "print(\"Les valeur décimales associées aux valeurs\\\n",
        "catégorielles de Y sont: \\n\",encoder)"
      ],
      "execution_count": null,
      "outputs": [
        {
          "output_type": "stream",
          "text": [
            "Les valeur catégorielles de Y sont: \n",
            " ['Homme' 'Homme' 'Femme' 'Homme']\n",
            "Les valeur décimales associées aux valeurscatégorielles de Y sont: \n",
            " [1 1 0 1]\n"
          ],
          "name": "stdout"
        }
      ]
    },
    {
      "cell_type": "code",
      "metadata": {
        "id": "m1griBRO4r9k",
        "colab": {
          "base_uri": "https://localhost:8080/",
          "height": 85
        },
        "outputId": "cfc024b7-41cf-48b7-a6bd-8435a93cc2ed"
      },
      "source": [
        "#Exemple 2\n",
        "import numpy as np\n",
        "from sklearn.preprocessing import LabelEncoder\n",
        "\"\"\"\n",
        "Encodage des données avec LaberEncoder()\n",
        "\"\"\"\n",
        "\n",
        "Y=np.array([\"chat\",\n",
        "            \"chat\",\n",
        "            \"souris\",\n",
        "            \"chien\",\n",
        "            \"souris\"])\n",
        "#utilisation d'un transformateur Ordinal LaberEncoder()\n",
        "encoder=LabelEncoder().fit_transform(Y)\n",
        "print(\"Les valeur catégorielles de Y sont: \\n\",Y)\n",
        "print(\"Les valeur décimales associées aux valeurs\\\n",
        "catégorielles de Y sont: \\n\",encoder)"
      ],
      "execution_count": null,
      "outputs": [
        {
          "output_type": "stream",
          "text": [
            "Les valeur catégorielles de Y sont: \n",
            " ['chat' 'chat' 'souris' 'chien' 'souris']\n",
            "Les valeur décimales associées aux valeurscatégorielles de Y sont: \n",
            " [0 0 2 1 2]\n"
          ],
          "name": "stdout"
        }
      ]
    },
    {
      "cell_type": "markdown",
      "metadata": {
        "id": "hNp4rA6W6f22"
      },
      "source": [
        "<font color=\"red\">**Attention:**</font> LabelEncoder() prend en paramètre un vecteur, sinon on aura une erreur d'exécution."
      ]
    },
    {
      "cell_type": "markdown",
      "metadata": {
        "id": "OjXsI55t7jmm"
      },
      "source": [
        "+ ***OrdinalEncoder():*** encode les valeur catégorielles de la variable X en valeurs décimales (0, 1, 2, ..)"
      ]
    },
    {
      "cell_type": "code",
      "metadata": {
        "id": "FWZEt8g374_q",
        "colab": {
          "base_uri": "https://localhost:8080/",
          "height": 187
        },
        "outputId": "d2c86387-0407-429e-d984-049483f6740c"
      },
      "source": [
        "#Exemple 3\n",
        "import numpy as np\n",
        "from sklearn.preprocessing import OrdinalEncoder\n",
        "\"\"\"\n",
        "Encodage des données avec OrdinalEncoder()\n",
        "\"\"\"\n",
        "\n",
        "X=np.array([\n",
        "            [\"chat\", \"Poile\"],\n",
        "            [\"chat\", \"Poile\"],\n",
        "            [\"oiseaux\",\"plume\"],\n",
        "            [\"chien\", \"poile\"]])\n",
        "#utilisation d'un transformateur Ordinal LaberEncoder()\n",
        "encoder=OrdinalEncoder().fit_transform(X)\n",
        "print(\"Les valeur catégorielles de X sont: \\n\",X)\n",
        "print(\"Les valeur décimales associées aux valeurs \\\n",
        "catégorielles de X sont: \\n\",encoder)"
      ],
      "execution_count": null,
      "outputs": [
        {
          "output_type": "stream",
          "text": [
            "Les valeur catégorielles de X sont: \n",
            " [['chat' 'Poile']\n",
            " ['chat' 'Poile']\n",
            " ['oiseau' 'plume']\n",
            " ['chien' 'poile']]\n",
            "Les valeur décimales associées aux valeurs catégorielles de X sont: \n",
            " [[0. 0.]\n",
            " [0. 0.]\n",
            " [2. 1.]\n",
            " [1. 2.]]\n"
          ],
          "name": "stdout"
        }
      ]
    },
    {
      "cell_type": "markdown",
      "metadata": {
        "id": "SkpC0Q7k95eD"
      },
      "source": [
        "<font color=\"blue\">1.2. Encodage One-Hot</font>\n",
        "\n"
      ]
    },
    {
      "cell_type": "markdown",
      "metadata": {
        "id": "Nix4IA-g_y9j"
      },
      "source": [
        "+ **LabelBinerizer :**\n"
      ]
    },
    {
      "cell_type": "code",
      "metadata": {
        "id": "B8ZfgipVABo1",
        "colab": {
          "base_uri": "https://localhost:8080/",
          "height": 153
        },
        "outputId": "f7ec6212-df3c-4f57-9fed-02c562a10694"
      },
      "source": [
        "#Exemple 4\n",
        "import numpy as np\n",
        "from sklearn.preprocessing import LabelBinarizer\n",
        "\"\"\"\n",
        "Encodage des données avec LabelBinarizer()\n",
        "\"\"\"\n",
        "Y=np.array([\"chat\",\n",
        "            \"chat\",\n",
        "            \"souris\",\n",
        "            \"chien\",\n",
        "            \"souris\"])\n",
        "#utilisation d'un transformateur One-Hot: LabelBinerizer()\n",
        "encoder=LabelBinarizer().fit_transform(Y)\n",
        "print(\"Les valeur catégorielles de Y sont: \\n\",Y)\n",
        "print(\"Les valeur binaires associées aux valeurs\\\n",
        " catégorielles de Y sont: \\n\",encoder)"
      ],
      "execution_count": null,
      "outputs": [
        {
          "output_type": "stream",
          "text": [
            "Les valeur catégorielles de Y sont: \n",
            " ['chat' 'chat' 'souris' 'chien' 'souris']\n",
            "Les valeur binaires associées aux valeurs catégorielles de Y sont: \n",
            " [[1 0 0]\n",
            " [1 0 0]\n",
            " [0 0 1]\n",
            " [0 1 0]\n",
            " [0 0 1]]\n"
          ],
          "name": "stdout"
        }
      ]
    },
    {
      "cell_type": "markdown",
      "metadata": {
        "id": "79HiepmhAnZn"
      },
      "source": [
        "+ **OneHotEncoder :**"
      ]
    },
    {
      "cell_type": "code",
      "metadata": {
        "id": "Of_VBAS7-IQB",
        "colab": {
          "base_uri": "https://localhost:8080/",
          "height": 255
        },
        "outputId": "fd67bc8d-f4fe-4312-df91-32bea01b03b1"
      },
      "source": [
        "#Exemple 5\n",
        "import numpy as np\n",
        "from sklearn.preprocessing import MultiLabelBinarizer\n",
        "\"\"\"\n",
        "Encodage des données avec OneHotEncoder()\n",
        "\"\"\"\n",
        "X=np.array([\n",
        "            [\"chat\", \"Poile\"],\n",
        "            [\"chat\", \"Poile\"],\n",
        "            [\"oiseaux\",\"plume\"],\n",
        "            [\"chien\", \"poile\"]])\n",
        "#utilisation d'un transformateur MultiLabelBinarizer()\n",
        "encoder=OneHotEncoder().fit_transform(X)\n",
        "print(\"Les valeur catégorielles de X sont: \\n\",X)\n",
        "print(\"Les valeur Binaires associées aux valeurs \\\n",
        "catégorielles de X sont: \\n\",encoder)"
      ],
      "execution_count": null,
      "outputs": [
        {
          "output_type": "stream",
          "text": [
            "Les valeur catégorielles de X sont: \n",
            " [['chat' 'Poile']\n",
            " ['chat' 'Poile']\n",
            " ['oiseaux' 'plume']\n",
            " ['chien' 'poile']]\n",
            "Les valeur Binaires associées aux valeurs catégorielles de X sont: \n",
            "   (0, 0)\t1.0\n",
            "  (0, 3)\t1.0\n",
            "  (1, 0)\t1.0\n",
            "  (1, 3)\t1.0\n",
            "  (2, 2)\t1.0\n",
            "  (2, 4)\t1.0\n",
            "  (3, 1)\t1.0\n",
            "  (3, 5)\t1.0\n"
          ],
          "name": "stdout"
        }
      ]
    }
  ]
}