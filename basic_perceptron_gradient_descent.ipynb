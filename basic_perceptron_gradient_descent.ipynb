{
  "nbformat": 4,
  "nbformat_minor": 0,
  "metadata": {
    "colab": {
      "name": "basic_perceptron_gradient_descent.ipynb",
      "provenance": [],
      "collapsed_sections": [],
      "include_colab_link": true
    },
    "kernelspec": {
      "name": "python3",
      "display_name": "Python 3"
    }
  },
  "cells": [
    {
      "cell_type": "markdown",
      "metadata": {
        "id": "view-in-github",
        "colab_type": "text"
      },
      "source": [
        "<a href=\"https://colab.research.google.com/github/elhaji1/machine-learning/blob/main/basic_perceptron_gradient_descent.ipynb\" target=\"_parent\"><img src=\"https://colab.research.google.com/assets/colab-badge.svg\" alt=\"Open In Colab\"/></a>"
      ]
    },
    {
      "cell_type": "markdown",
      "metadata": {
        "id": "a_PgdAoFVbSh"
      },
      "source": [
        "# **Objectif pédagogique**\n",
        "* Réaliser un réseau de neurones basique constitué d'un seul nourone pour la classification biniaire. \n",
        "* utiliser la fonction d'activation: sigmoid (fonction logistique)\n",
        "* mettre en oeuvre le gradient descent comme algorithme d'entrainement du perceptron.\n"
      ]
    },
    {
      "cell_type": "code",
      "metadata": {
        "id": "mtoUb77UOKty"
      },
      "source": [
        "import numpy as np\n",
        "import matplotlib.pyplot as plt\n",
        "from sklearn.datasets import make_blobs"
      ],
      "execution_count": 4,
      "outputs": []
    },
    {
      "cell_type": "markdown",
      "metadata": {
        "id": "WZvpLg-6JdA_"
      },
      "source": [
        "#<font color=red> **I. Dataset**</font>"
      ]
    },
    {
      "cell_type": "markdown",
      "metadata": {
        "id": "Qg4pHgh3OSqn"
      },
      "source": [
        "#1. Générer une Dataset pour la Classification Binaire:</br>"
      ]
    },
    {
      "cell_type": "code",
      "metadata": {
        "id": "bXtZmqmeOPuz"
      },
      "source": [
        "X, y = make_blobs(n_samples=100, n_features=2, centers=2, random_state=0)"
      ],
      "execution_count": 2,
      "outputs": []
    },
    {
      "cell_type": "markdown",
      "metadata": {
        "id": "wJPkymSLBHLS"
      },
      "source": [
        "#2. afficher les dimensions de X et y"
      ]
    },
    {
      "cell_type": "code",
      "metadata": {
        "id": "qk2UR38ZaCet"
      },
      "source": [
        "print(X.shape)\n",
        "print(y.shape)"
      ],
      "execution_count": null,
      "outputs": []
    },
    {
      "cell_type": "markdown",
      "metadata": {
        "id": "hQGlhDyIBV8b"
      },
      "source": [
        "#3. Redimensionner y de telle sorte à avoir y de dimension (m, 1)"
      ]
    },
    {
      "cell_type": "code",
      "metadata": {
        "id": "mbWOotp0drCv"
      },
      "source": [
        "y=y.reshape(y.shape[0],1)"
      ],
      "execution_count": 34,
      "outputs": []
    },
    {
      "cell_type": "markdown",
      "metadata": {
        "id": "3VYyRsohBnEq"
      },
      "source": [
        "#4. Visualiser le nuage de Points"
      ]
    },
    {
      "cell_type": "code",
      "metadata": {
        "id": "DFe2IlraBzJE",
        "colab": {
          "base_uri": "https://localhost:8080/",
          "height": 282
        },
        "outputId": "2736d358-55f9-4c51-f98c-a6d5befe2297"
      },
      "source": [
        "plt.scatter(X[:,0], X[:,1],c=y, cmap='bwr')"
      ],
      "execution_count": 6,
      "outputs": [
        {
          "output_type": "execute_result",
          "data": {
            "text/plain": [
              "<matplotlib.collections.PathCollection at 0x7fde9dba4650>"
            ]
          },
          "metadata": {
            "tags": []
          },
          "execution_count": 6
        },
        {
          "output_type": "display_data",
          "data": {
            "image/png": "[encoded data removed]",
            "text/plain": [
              "<Figure size 432x288 with 1 Axes>"
            ]
          },
          "metadata": {
            "tags": [],
            "needs_background": "light"
          }
        }
      ]
    },
    {
      "cell_type": "markdown",
      "metadata": {
        "id": "84Rk45YHanxa"
      },
      "source": [
        "#<font color=red> **II. Perceptron**</font>"
      ]
    },
    {
      "cell_type": "markdown",
      "metadata": {
        "id": "uBttxzrmCCPD"
      },
      "source": [
        "#5. Fonction d'activation\n",
        "\n"
      ]
    },
    {
      "cell_type": "code",
      "metadata": {
        "id": "MS4jOZwzfrrU"
      },
      "source": [
        "def sigmoid(x):\n",
        "  return 1 / (1+np.exp(-x))"
      ],
      "execution_count": 18,
      "outputs": []
    },
    {
      "cell_type": "markdown",
      "metadata": {
        "id": "sroJ7TLRCJS8"
      },
      "source": [
        "#6.Initialisation de W et b"
      ]
    },
    {
      "cell_type": "code",
      "metadata": {
        "id": "9eHuMuoZDCBD"
      },
      "source": [
        "def initialize_weights(x):\n",
        "  weights = np.random.randn(X.shape[1],1)\n",
        "  biais = np.random.randn(1)\n",
        "  return (weights,biais)"
      ],
      "execution_count": 8,
      "outputs": []
    },
    {
      "cell_type": "markdown",
      "metadata": {
        "id": "0wCcqBCoD0jj"
      },
      "source": [
        "#7. Prediction (calcul) de la sortie (A)"
      ]
    },
    {
      "cell_type": "code",
      "metadata": {
        "id": "qg9ZFBlYfHGQ"
      },
      "source": [
        "def forward_propagation(X, W, b):\n",
        "  z=X.dot(W)+b\n",
        "  A=sigmoid(z)\n",
        "  return A"
      ],
      "execution_count": 15,
      "outputs": []
    },
    {
      "cell_type": "markdown",
      "metadata": {
        "id": "y8v_7RrIEAAi"
      },
      "source": [
        "#8. Fonction coût cross_entropie"
      ]
    },
    {
      "cell_type": "code",
      "metadata": {
        "id": "36N1AVywgUy6"
      },
      "source": [
        "def cross_entropy(y, A):\n",
        "  return 1/len(y)*np.sum(-y*np.log(A)-(1-y)*np.log(1-A))"
      ],
      "execution_count": 9,
      "outputs": []
    },
    {
      "cell_type": "markdown",
      "metadata": {
        "id": "bnnP6Nd-ESPe"
      },
      "source": [
        "#9. Calcul de gradients"
      ]
    },
    {
      "cell_type": "code",
      "metadata": {
        "id": "bWcDHOd0hYKc"
      },
      "source": [
        "def gradients(X, A, y):\n",
        "  dW = 1/len(y)*np.dot(X.T, A-y)\n",
        "  db = 1/len(y)*np.sum(A-y)\n",
        "  return (dW, db)"
      ],
      "execution_count": 10,
      "outputs": []
    },
    {
      "cell_type": "markdown",
      "metadata": {
        "id": "LHRwzawBEzxW"
      },
      "source": [
        "#Entrainement: Gradient Descente"
      ]
    },
    {
      "cell_type": "code",
      "metadata": {
        "id": "GWL981CJjPbs"
      },
      "source": [
        "def optimisation(X, W, b, A, y, learning_rate):\n",
        "  dW, db = gradients(X, A, y)\n",
        "  W=W - learning_rate * dW\n",
        "  b=b - learning_rate * db\n",
        "  return (W, b)"
      ],
      "execution_count": 21,
      "outputs": []
    },
    {
      "cell_type": "markdown",
      "metadata": {
        "id": "dnOnrYQuF21q"
      },
      "source": [
        "#11. Prediction de la sortie (0 ou 1)"
      ]
    },
    {
      "cell_type": "code",
      "metadata": {
        "id": "ECsDPa2lnfh0"
      },
      "source": [
        "def predict(X, W, b):\n",
        "  A = forward_propagation(X, W, b)\n",
        "  return A >= 0.5"
      ],
      "execution_count": 12,
      "outputs": []
    },
    {
      "cell_type": "markdown",
      "metadata": {
        "id": "V9EkO51uGD4z"
      },
      "source": [
        "#12. implémentation du perceptron"
      ]
    },
    {
      "cell_type": "code",
      "metadata": {
        "id": "Clu3dOgHmS64"
      },
      "source": [
        "def perceptron(X, y, learning_rate=0.1, n_iter=100):\n",
        "  W, b = initialize_weights(X) # initialisation de W et b\n",
        "  \n",
        "  # entrainement du perceptron\n",
        "  losses=[]\n",
        "  for i in range(n_iter):\n",
        "    A = forward_propagation(X, W, b) # Génération de la sortie A (un nombre appartenant à [0,1] ouvert!)\n",
        "    loss = cross_entropy(y, A) # Erreur\n",
        "    losses.append(loss)\n",
        "    W, b = optimisation(X, W, b, A, y, learning_rate=0.1)#Entrainement\n",
        "\n",
        "  # Prediction\n",
        "  y_pred = predict(X, W, b)# prediction de la sortie (0 ou 1) par le modèle\n",
        "\n",
        "  return (y_pred, W, b,losses)"
      ],
      "execution_count": 44,
      "outputs": []
    },
    {
      "cell_type": "code",
      "metadata": {
        "id": "8-F50BemN3aC"
      },
      "source": [
        "#implémentation\n",
        "y_pred, W, b, losses= perceptron(X, y, learning_rate=0.2, n_iter=100)"
      ],
      "execution_count": 71,
      "outputs": []
    },
    {
      "cell_type": "markdown",
      "metadata": {
        "id": "wFNoJAWjOGs7"
      },
      "source": [
        "## 13. Tracer la frontiere de décision"
      ]
    },
    {
      "cell_type": "code",
      "metadata": {
        "colab": {
          "base_uri": "https://localhost:8080/",
          "height": 445
        },
        "id": "zW-m3IWNJqCG",
        "outputId": "c07bcb89-4248-4ca9-d066-7c0427f1ddba"
      },
      "source": [
        "fig, ax = plt.subplots(figsize=(10, 7))\n",
        "ax.scatter(X[:,0], X[:, 1], c=y, cmap='bwr')\n",
        "x1 = np.linspace(-1, 4, 100)\n",
        "x2 = ( - W[0] * x1 - b) / W[1]\n",
        "ax.plot(x1, x2, c='g', lw=3)\n"
      ],
      "execution_count": 72,
      "outputs": [
        {
          "output_type": "execute_result",
          "data": {
            "text/plain": [
              "[<matplotlib.lines.Line2D at 0x7fde9c7e1c50>]"
            ]
          },
          "metadata": {
            "tags": []
          },
          "execution_count": 72
        },
        {
          "output_type": "display_data",
          "data": {
            "image/png": "[encoded data removed]",
            "text/plain": [
              "<Figure size 720x504 with 1 Axes>"
            ]
          },
          "metadata": {
            "tags": [],
            "needs_background": "light"
          }
        }
      ]
    },
    {
      "cell_type": "markdown",
      "metadata": {
        "id": "hFPz-diubQYC"
      },
      "source": [
        "## Learning curve\n",
        "La courbe d'apprentissage met en évidence l'évolution de l'erreur (losses) en fontion du nombre de l'itérations. l'erreur devrait diminuer au fur à mesure avec les itérations (concept de l'apprentissage). Il permet de vérifier le point de \"saturation\" de l'apprentissage: il s'agit du point à partir duquel la courbe ne diminue plus. La courbe d'apprentissage ci-dessous que l'apprentissage n'est pas terminé==> il faut,entre autres, augmenter le nombre d'itérations."
      ]
    },
    {
      "cell_type": "code",
      "metadata": {
        "colab": {
          "base_uri": "https://localhost:8080/",
          "height": 445
        },
        "id": "DsFRiCjUYEbF",
        "outputId": "de7201de-cfd9-40ed-8ef2-ae8318aa839d"
      },
      "source": [
        "fig, ax = plt.subplots(figsize=(10, 7))\n",
        "x=np.linspace(0.0, 100.0,100)\n",
        "ax.plot(x,losses)\n",
        "ax.legend('loss')"
      ],
      "execution_count": 73,
      "outputs": [
        {
          "output_type": "execute_result",
          "data": {
            "text/plain": [
              "[<matplotlib.lines.Line2D at 0x7fde9c75e210>]"
            ]
          },
          "metadata": {
            "tags": []
          },
          "execution_count": 73
        },
        {
          "output_type": "display_data",
          "data": {
            "image/png": "[encoded data removed]",
            "text/plain": [
              "<Figure size 720x504 with 1 Axes>"
            ]
          },
          "metadata": {
            "tags": [],
            "needs_background": "light"
          }
        }
      ]
    }
  ]
}