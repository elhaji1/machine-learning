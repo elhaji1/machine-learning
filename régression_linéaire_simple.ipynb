{
  "nbformat": 4,
  "nbformat_minor": 0,
  "metadata": {
    "colab": {
      "name": "régression_linéaire_simple.ipynb",
      "provenance": [],
      "collapsed_sections": [],
      "authorship_tag": "ABX9TyNyMLgFa/DSJTbcPn/ZYh0H"
    },
    "kernelspec": {
      "display_name": "Python 3",
      "name": "python3"
    },
    "language_info": {
      "name": "python"
    }
  },
  "cells": [
    {
      "cell_type": "code",
      "metadata": {
        "id": "p-MwtpZuNZly"
      },
      "source": [
        "#importer les modules et classes nécessaire\n",
        "import numpy as np\n",
        "from sklearn.datasets import make_regression# pour créer les données\n",
        "import matplotlib.pyplot as plt\n",
        "from sklearn.linear_model import SGDRegressor\n",
        "from sklearn.model_selection import train_test_split#pour diviser le dataset en deux parties: train (x_train, y_train) et test(x_test, y_test)"
      ],
      "execution_count": 26,
      "outputs": []
    },
    {
      "cell_type": "code",
      "metadata": {
        "id": "DAkFnyTgNvAH"
      },
      "source": [
        "np.random.seed(0)#pour garder le même dataset une fois les données sont générées la première fois\n",
        "x,y=make_regression(n_samples=200,n_features=1,noise=10)"
      ],
      "execution_count": 27,
      "outputs": []
    },
    {
      "cell_type": "code",
      "metadata": {
        "id": "63FZ0PEOPg_N"
      },
      "source": [
        "#partager le dataset en données d'apprentisssage(x_train,y_train) et données de test (x_test,y_test)\n",
        "x_train,x_test, y_train,y_test=train_test_split(x,y, test_size=0.3, random_state=0)#30% des données sont consacrées pour le test"
      ],
      "execution_count": 28,
      "outputs": []
    },
    {
      "cell_type": "code",
      "metadata": {
        "id": "9LPAvjakA8Zh"
      },
      "source": [
        "#créer le modèle\n",
        "model=SGDRegressor(max_iter=100, eta0=0.01)#l'estimateur SGDRegressor utilise l'algorithme d'apprentissage Gradient Descent"
      ],
      "execution_count": 29,
      "outputs": []
    },
    {
      "cell_type": "code",
      "metadata": {
        "id": "CBYRQX5zBdxj",
        "colab": {
          "base_uri": "https://localhost:8080/"
        },
        "outputId": "20698571-cef8-4767-cc63-daffa815bfd0"
      },
      "source": [
        "#Entrainer le modèle ainsi créé par la méthode fit(x_train,y_train) [Binesûr il faut utiliser les données d'apprentisage!!]\n",
        "model.fit(x_train,y_train)"
      ],
      "execution_count": 30,
      "outputs": [
        {
          "output_type": "execute_result",
          "data": {
            "text/plain": [
              "SGDRegressor(alpha=0.0001, average=False, early_stopping=False, epsilon=0.1,\n",
              "             eta0=0.01, fit_intercept=True, l1_ratio=0.15,\n",
              "             learning_rate='invscaling', loss='squared_loss', max_iter=100,\n",
              "             n_iter_no_change=5, penalty='l2', power_t=0.25, random_state=None,\n",
              "             shuffle=True, tol=0.001, validation_fraction=0.1, verbose=0,\n",
              "             warm_start=False)"
            ]
          },
          "metadata": {
            "tags": []
          },
          "execution_count": 30
        }
      ]
    },
    {
      "cell_type": "code",
      "metadata": {
        "id": "wpvWkS-AB6xw"
      },
      "source": [
        "#Calculer la score (preformance) du modèle par la fonction score(x_train_y_train)\n",
        "model_score=model.score(x_train,y_train)\n"
      ],
      "execution_count": 31,
      "outputs": []
    },
    {
      "cell_type": "code",
      "metadata": {
        "colab": {
          "base_uri": "https://localhost:8080/"
        },
        "id": "If6Y1pzNCUNY",
        "outputId": "e5170dfb-600e-4c28-c011-e81930cc1f8e"
      },
      "source": [
        "#Afficher le score du modèle\n",
        "print(model_score)"
      ],
      "execution_count": 32,
      "outputs": [
        {
          "output_type": "stream",
          "text": [
            "0.9906906393262004\n"
          ],
          "name": "stdout"
        }
      ]
    },
    {
      "cell_type": "code",
      "metadata": {
        "colab": {
          "base_uri": "https://localhost:8080/"
        },
        "id": "fEPt9o6fCr5W",
        "outputId": "03ae7d52-3cf0-4e68-e520-57f54015c4e7"
      },
      "source": [
        "#tester le model sur les données de test\n",
        "print(model.score(x_test,y_test))"
      ],
      "execution_count": 33,
      "outputs": [
        {
          "output_type": "stream",
          "text": [
            "0.9876970974441844\n"
          ],
          "name": "stdout"
        }
      ]
    },
    {
      "cell_type": "code",
      "metadata": {
        "id": "9E5qDHBZDIpU",
        "colab": {
          "base_uri": "https://localhost:8080/"
        },
        "outputId": "dd799d4b-dd12-4fa5-a761-e3ebfa6622b5"
      },
      "source": [
        "#utiliser le modèle pour la prédiction\n",
        "print(model.predict(x_test))"
      ],
      "execution_count": 34,
      "outputs": [
        {
          "output_type": "stream",
          "text": [
            "[-4.58497789e+01  5.95784739e+01  8.52737190e+01 -1.17905080e+01\n",
            "  9.00360251e+01  2.84532250e+01 -5.10816988e+01  6.35809220e+01\n",
            " -4.17978666e+01 -1.50325535e+02  3.04453325e+01 -1.64441946e+01\n",
            "  9.95069101e+00  2.90003904e+01 -4.38796814e+01  7.17598989e+01\n",
            "  3.26390464e+01  1.06571682e+01  2.07314820e+02 -1.07481717e+02\n",
            "  3.45782261e+01 -1.14450723e+02 -1.62776588e+01  1.53403280e+01\n",
            " -1.29024933e+02  1.04569757e+01  1.83225822e+01  3.23094633e+00\n",
            "  1.31672397e+01  6.86714660e+01 -1.51149906e+02 -1.26796568e+02\n",
            " -9.62885486e+01  2.70196079e+01  1.12144320e+02  3.61766435e+00\n",
            " -9.00574174e+01  1.08337439e+02 -6.59525531e+01  1.33027313e+01\n",
            "  6.40798737e+01 -1.68697196e+02  4.06653642e+01 -3.19307814e+01\n",
            " -3.68793479e+01  2.17612316e+02  4.10976412e+01 -4.99583827e+01\n",
            " -1.08576234e+02  3.70836181e+01 -6.80147658e+01  8.17557552e+01\n",
            " -4.64348546e+01  7.98152135e+01 -1.22250890e-01 -5.77712375e+01\n",
            " -4.41374597e+01  9.26027571e+01 -6.40326355e+01 -6.32812604e+01]\n"
          ],
          "name": "stdout"
        }
      ]
    },
    {
      "cell_type": "code",
      "metadata": {
        "id": "UjU3UGD4ELrR",
        "colab": {
          "base_uri": "https://localhost:8080/"
        },
        "outputId": "c6108179-561b-403d-c436-723bf6a85680"
      },
      "source": [
        "#on peut prédire une seule valeur de la façon suivant:\n",
        "y_predict=model.predict([[1.3]])#la méthode predict() prend en paramètre un array à deux dimension!!!\n",
        "print(y_predict)"
      ],
      "execution_count": 35,
      "outputs": [
        {
          "output_type": "stream",
          "text": [
            "[123.86308045]\n"
          ],
          "name": "stdout"
        }
      ]
    },
    {
      "cell_type": "code",
      "metadata": {
        "id": "x9KFlwobGlGx",
        "colab": {
          "base_uri": "https://localhost:8080/",
          "height": 282
        },
        "outputId": "1a1cca2d-e0b4-444b-89c6-af0427d26bf2"
      },
      "source": [
        "#dessiner le nuage des points et la deroite de la régression (le modèle)\n",
        "plt.scatter(x,y)\n",
        "plt.plot(x,model.predict(x),c='red')"
      ],
      "execution_count": 36,
      "outputs": [
        {
          "output_type": "execute_result",
          "data": {
            "text/plain": [
              "[<matplotlib.lines.Line2D at 0x7f59d5c86450>]"
            ]
          },
          "metadata": {
            "tags": []
          },
          "execution_count": 36
        },
        {
          "output_type": "display_data",
          "data": {
            "image/png": "[encoded data removed]",
            "text/plain": [
              "<Figure size 432x288 with 1 Axes>"
            ]
          },
          "metadata": {
            "tags": [],
            "needs_background": "light"
          }
        }
      ]
    },
    {
      "cell_type": "code",
      "metadata": {
        "colab": {
          "base_uri": "https://localhost:8080/"
        },
        "id": "LRujD9TiHhVQ",
        "outputId": "0b6ba0ae-e26d-409e-90af-4901bdbaa4af"
      },
      "source": [
        "#Afficher les paramètres du modèle\n",
        "a=model.coef_\n",
        "b=model.intercept_\n",
        "print(\"a= {} et b= {} \".format(a,b)) #n'oubliez pas que pour la régression linéaire on cherche une droite (y=ax+b) "
      ],
      "execution_count": 37,
      "outputs": [
        {
          "output_type": "stream",
          "text": [
            "a= [96.67315133] et b= [-1.81201628] \n"
          ],
          "name": "stdout"
        }
      ]
    }
  ]
}